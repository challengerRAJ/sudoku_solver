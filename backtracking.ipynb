{
 "cells": [
  {
   "cell_type": "markdown",
   "metadata": {},
   "source": [
    "# A Backtracking program in Python to solve Sudoku "
   ]
  },
  {
   "cell_type": "code",
   "execution_count": 1,
   "metadata": {},
   "outputs": [],
   "source": [
    "# Function to Find the entry in the Grid that is still not used \n",
    "# Searches the grid to find an entry that is still unassigned. If \n",
    "# found, the reference parameters row, col will be set the location \n",
    "# that is unassigned, and true is returned. If no unassigned entries \n",
    "# remains, false is returned. \n",
    "# 'l' is a list variable that has been passed from the solve_sudoku function \n",
    "# to keep track of incrementation of Rows and Columns \n",
    "def find_empty_location(arr, l): \n",
    "    for row in range(9): \n",
    "        for col in range(9): \n",
    "            if(arr[row][col]== 0): \n",
    "                l[0]= row \n",
    "                l[1]= col \n",
    "                return True\n",
    "    return False"
   ]
  },
  {
   "cell_type": "code",
   "execution_count": 2,
   "metadata": {},
   "outputs": [],
   "source": [
    "# Returns a boolean which indicates whether any assigned entry \n",
    "# in the specified row matches the given number. \n",
    "def used_in_row(arr, row, num): \n",
    "    for i in range(9): \n",
    "        if(arr[row][i] == num): \n",
    "            return True\n",
    "    return False"
   ]
  },
  {
   "cell_type": "code",
   "execution_count": 3,
   "metadata": {},
   "outputs": [],
   "source": [
    "# Returns a boolean which indicates whether any assigned entry \n",
    "# in the specified column matches the given number. \n",
    "def used_in_col(arr, col, num): \n",
    "    for i in range(9): \n",
    "        if(arr[i][col] == num): \n",
    "            return True\n",
    "    return False"
   ]
  },
  {
   "cell_type": "code",
   "execution_count": 4,
   "metadata": {},
   "outputs": [],
   "source": [
    "# Returns a boolean which indicates whether any assigned entry \n",
    "# within the specified 3x3 box matches the given number \n",
    "def used_in_box(arr, row, col, num): \n",
    "    for i in range(3): \n",
    "        for j in range(3): \n",
    "            if(arr[i + row][j + col] == num): \n",
    "                return True\n",
    "    return False"
   ]
  },
  {
   "cell_type": "code",
   "execution_count": 5,
   "metadata": {},
   "outputs": [],
   "source": [
    "# Checks whether it will be legal to assign num to the given row, col \n",
    "# Returns a boolean which indicates whether it will be legal to assign \n",
    "# num to the given row, col location. \n",
    "def check_location_is_safe(arr, row, col, num): \n",
    "    # Check if 'num' is not already placed in current row, \n",
    "    # current column and current 3x3 box \n",
    "    return not used_in_row(arr, row, num) and not used_in_col(arr, col, num) and not used_in_box(arr, row - row % 3, col - col % 3, num) \n"
   ]
  },
  {
   "cell_type": "code",
   "execution_count": 6,
   "metadata": {},
   "outputs": [],
   "source": [
    "\n",
    "# Takes a partially filled-in grid and attempts to assign values to \n",
    "# all unassigned locations in such a way to meet the requirements \n",
    "# for Sudoku solution (non-duplication across rows, columns, and boxes) \n",
    "def solve_sudoku(arr): \n",
    "    # 'l' is a list variable that keeps the record of row and col in find_empty_location Function\t \n",
    "    l =[0, 0] \n",
    "    \n",
    "    # If there is no unassigned location, we are done\t \n",
    "    if(not find_empty_location(arr, l)): \n",
    "        return True\n",
    "    # Assigning list values to row and col that we got from the above Function \n",
    "    row = l[0] \n",
    "    col = l[1] \n",
    "    \n",
    "    # consider digits 1 to 9 \n",
    "    for num in range(1, 10): \n",
    "        \n",
    "        # if looks promising \n",
    "        if(check_location_is_safe(arr, row, col, num)): \n",
    "            \n",
    "            # make tentative assignment \n",
    "            arr[row][col]= num \n",
    "\n",
    "            # return, if success, ya ! \n",
    "            if(solve_sudoku(arr)): \n",
    "                return True\n",
    "\n",
    "            # failure, unmake & try again \n",
    "            arr[row][col] = 0\n",
    "            \n",
    "    # this triggers backtracking\n",
    "    return False\n"
   ]
  },
  {
   "cell_type": "raw",
   "metadata": {},
   "source": [
    "# Driver main function to test above functions \n",
    "# creating a 2D array for the grid \n",
    "grid =[[0 for x in range(9)]for y in range(9)] \n",
    "\n",
    "# assigning values to the grid \n",
    "grid =[[3, 0, 6, 5, 0, 8, 4, 0, 0], \n",
    "       [5, 2, 0, 0, 0, 0, 0, 0, 0], \n",
    "       [0, 8, 7, 0, 0, 0, 0, 3, 1], \n",
    "       [0, 0, 3, 0, 1, 0, 0, 8, 0], \n",
    "       [9, 0, 0, 8, 6, 3, 0, 0, 5], \n",
    "       [0, 5, 0, 0, 9, 0, 6, 0, 0], \n",
    "       [1, 3, 0, 0, 0, 0, 2, 5, 0], \n",
    "       [0, 0, 0, 0, 0, 0, 0, 7, 4], \n",
    "       [0, 0, 5, 2, 0, 6, 3, 0, 0]] \n",
    "# if success print the grid\n",
    "if(solve_sudoku(grid)): \n",
    "    solved = grid \n",
    "else: \n",
    "    print (\"No solution exists\")\n",
    "\n",
    "# The above code has been contributed by Harshit Sidhwa. \n"
   ]
  },
  {
   "cell_type": "code",
   "execution_count": 7,
   "metadata": {},
   "outputs": [],
   "source": [
    "#solved"
   ]
  },
  {
   "cell_type": "code",
   "execution_count": 8,
   "metadata": {},
   "outputs": [],
   "source": [
    "def solve_sudo(matrix):\n",
    "    if(solve_sudoku(matrix)): \n",
    "        solved = matrix\n",
    "        return solved\n",
    "    else: \n",
    "        print (\"No solution exists\")\n"
   ]
  },
  {
   "cell_type": "code",
   "execution_count": null,
   "metadata": {},
   "outputs": [],
   "source": [
    "    "
   ]
  },
  {
   "cell_type": "code",
   "execution_count": null,
   "metadata": {},
   "outputs": [],
   "source": []
  }
 ],
 "metadata": {
  "kernelspec": {
   "display_name": "Python 3",
   "language": "python",
   "name": "python3"
  },
  "language_info": {
   "codemirror_mode": {
    "name": "ipython",
    "version": 3
   },
   "file_extension": ".py",
   "mimetype": "text/x-python",
   "name": "python",
   "nbconvert_exporter": "python",
   "pygments_lexer": "ipython3",
   "version": "3.5.2"
  }
 },
 "nbformat": 4,
 "nbformat_minor": 2
}
