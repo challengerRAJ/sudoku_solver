{
 "cells": [
  {
   "cell_type": "code",
   "execution_count": 1,
   "metadata": {},
   "outputs": [],
   "source": [
    "import cv2\n",
    "import numpy as np\n",
    "import matplotlib.pyplot as plt\n",
    "\n",
    "from keras.models import Model\n",
    "from keras.models import load_model\n",
    "\n",
    "#provide directory for model file\n",
    "model = load_model('model_64_99.h5')"
   ]
  },
  {
   "cell_type": "code",
   "execution_count": 2,
   "metadata": {},
   "outputs": [],
   "source": [
    "def resize_keep_aspect(img, size=64):\n",
    "    old_height, old_width = img.shape[:2]\n",
    "    if img.shape[0] >= size:\n",
    "        aspect_ratio = size / float(old_height)\n",
    "        dim = (int(old_width * aspect_ratio), size)\n",
    "        img = cv2.resize(img, dim, interpolation=cv2.INTER_LANCZOS4)\n",
    "    elif img.shape[1] >= size:\n",
    "        aspect_ratio = size / float(old_width)\n",
    "        dim = (size, int(old_height * aspect_ratio))\n",
    "        img = cv2.resize(img, dim, interpolation=cv2.INTER_LANCZOS4)\n",
    "    return img"
   ]
  },
  {
   "cell_type": "code",
   "execution_count": 8,
   "metadata": {},
   "outputs": [],
   "source": [
    "\n",
    "def process_image(img):\n",
    "    \n",
    "    img = cv2.cvtColor(img, cv2.COLOR_BGR2GRAY)\n",
    "   \n",
    "    proc = cv2.GaussianBlur(img.copy(), (9, 9), 0)\n",
    "    \n",
    "    _, mask = cv2.threshold(img, 245, 255, cv2.THRESH_BINARY_INV)\n",
    "    kernal = np.ones((12,12), np.uint8)\n",
    "    \n",
    "    proc = cv2.morphologyEx(mask, cv2.MORPH_OPEN, kernal)\n",
    "    \n",
    "    kernal2 = np.ones((7,7), np.uint8)\n",
    "    proc = cv2.morphologyEx(proc, cv2.MORPH_CLOSE, kernal2)\n",
    "    \n",
    "    #proc = cv2.adaptiveThreshold(proc, 255, cv2.ADAPTIVE_THRESH_GAUSSIAN_C, cv2.THRESH_BINARY, 11, 2)\n",
    "    \n",
    "    #proc = ~proc\n",
    "    \n",
    "    proc = resize_keep_aspect(proc)\n",
    "    \n",
    "    img_array = proc.reshape(1, 64, 64, 1)\n",
    "    \n",
    "    return img_array\n",
    "    \n"
   ]
  },
  {
   "cell_type": "code",
   "execution_count": 7,
   "metadata": {},
   "outputs": [],
   "source": [
    "def get_number(image):\n",
    "    ##image = cv2.cvtColor(image, cv2.COLOR_GRAY2BGR)\n",
    "    image_array = process_image(image)\n",
    "    pred = model.predict(image_array)\n",
    "    #print(\"Predicted Number is\",pred)\n",
    "    \n",
    "    if(np.sum(pred)==1):\n",
    "        return pred.argmax()\n",
    "    else:\n",
    "        return 0"
   ]
  },
  {
   "cell_type": "code",
   "execution_count": 5,
   "metadata": {},
   "outputs": [],
   "source": [
    "def get_matrix(sudoku_grids):\n",
    "    a=[]\n",
    "    k=0\n",
    "    for i in range(0,9):\n",
    "        b = []\n",
    "        for j in range(0,9):\n",
    "            #crop = cv2.cvtColor(grid[k], cv2.COLOR_GRAY2BGR)\n",
    "            num = get_number(sudoku_grids[k])\n",
    "            k=k+1\n",
    "            b.append(num)\n",
    "        a.append(b)\n",
    "    return a   "
   ]
  },
  {
   "cell_type": "code",
   "execution_count": 7,
   "metadata": {
    "scrolled": false
   },
   "outputs": [],
   "source": [
    "\n",
    "\n",
    "#read image stored on device by providing complete address of image\n",
    "#image = cv2.imread('4.jpg')\n",
    "#get_number(image)\n",
    "\n"
   ]
  },
  {
   "cell_type": "code",
   "execution_count": null,
   "metadata": {},
   "outputs": [],
   "source": []
  },
  {
   "cell_type": "code",
   "execution_count": null,
   "metadata": {},
   "outputs": [],
   "source": []
  },
  {
   "cell_type": "code",
   "execution_count": 3,
   "metadata": {},
   "outputs": [],
   "source": [
    "\"\"\"\n",
    "def process_image(img):\n",
    "    \n",
    "    print(\"Original Image\")\n",
    "    plt.imshow(img)\n",
    "    plt.show()\n",
    "    \n",
    "    img = cv2.cvtColor(img, cv2.COLOR_BGR2GRAY)\n",
    "    print(\"Grayscale\")\n",
    "    plt.imshow(img,cmap='gray')\n",
    "    plt.show()\n",
    "    \n",
    "    _, mask = cv2.threshold(img, 245, 255, cv2.THRESH_BINARY_INV)\n",
    "    kernal = np.ones((12,12), np.uint8)\n",
    "    \n",
    "    proc = cv2.morphologyEx(mask, cv2.MORPH_OPEN, kernal)\n",
    "    print(\"Morph Open\")\n",
    "    plt.imshow(proc)\n",
    "    plt.show()\n",
    "    \n",
    "    kernal2 = np.ones((5,5), np.uint8)\n",
    "    proc = cv2.morphologyEx(proc, cv2.MORPH_CLOSE, kernal2)\n",
    "    #proc = cv2.dilate(proc, kernal2, iterations=1)\n",
    "    print(\"Dilate\")\n",
    "    plt.imshow(proc)\n",
    "    plt.show()\n",
    "    \n",
    "    \n",
    "    proc = cv2.GaussianBlur(proc, (9, 9), 0)\n",
    "    print(\"Blurred\")\n",
    "    plt.imshow(proc,cmap='gray')\n",
    "    plt.show()\n",
    "    \n",
    "    #proc = cv2.adaptiveThreshold(proc, 255, cv2.ADAPTIVE_THRESH_MEAN_C, cv2.THRESH_BINARY, 11, 2)\n",
    "    #print(\"cleaned\")\n",
    "    #plt.imshow(proc,cmap='gray')\n",
    "    #plt.show()\n",
    "    \n",
    "    #proc = ~proc\n",
    "    #print(\"inverted\")\n",
    "    #plt.imshow(proc,cmap='gray')\n",
    "    #plt.show()\n",
    "    \n",
    "    #closing = cv2.morphologyEx(proc, cv2.MORPH_CLOSE, kernal)\n",
    "    #print(\"Morph Close\")\n",
    "    #plt.imshow(closing)\n",
    "    #plt.show()\n",
    "    \n",
    "    proc = resize_keep_aspect(proc)\n",
    "    print(\"resized\")\n",
    "    plt.imshow(proc,cmap='gray')\n",
    "    plt.show()\n",
    "    \n",
    "    img_array = proc.reshape(1, 64, 64, 1)\n",
    "    \n",
    "    return img_array\n",
    "\"\"\""
   ]
  }
 ],
 "metadata": {
  "kernelspec": {
   "display_name": "Python 3",
   "language": "python",
   "name": "python3"
  },
  "language_info": {
   "codemirror_mode": {
    "name": "ipython",
    "version": 3
   },
   "file_extension": ".py",
   "mimetype": "text/x-python",
   "name": "python",
   "nbconvert_exporter": "python",
   "pygments_lexer": "ipython3",
   "version": "3.5.2"
  }
 },
 "nbformat": 4,
 "nbformat_minor": 2
}
