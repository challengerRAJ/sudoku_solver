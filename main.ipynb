{
 "cells": [
  {
   "cell_type": "code",
   "execution_count": null,
   "metadata": {},
   "outputs": [],
   "source": [
    "#Importing Libraries\n",
    "import numpy as np\n",
    "import cv2\n",
    "import matplotlib.pyplot as plt\n",
    "\n",
    "#Importing necessary functions from files in directory\n",
    "import import_ipynb\n",
    "from preprocess import get_sudoku\n",
    "from digits_recog import get_number\n"
   ]
  },
  {
   "cell_type": "code",
   "execution_count": null,
   "metadata": {},
   "outputs": [],
   "source": [
    "def get_grid_lines(img, length=12):\n",
    "    horizontal = np.copy(img)\n",
    "    cols = horizontal.shape[1]\n",
    "    horizontal_size = cols // length\n",
    "    horizontal_structure = cv2.getStructuringElement(cv2.MORPH_RECT, (horizontal_size, 1))\n",
    "    horizontal = cv2.erode(horizontal, horizontal_structure)\n",
    "    horizontal = cv2.dilate(horizontal, horizontal_structure)\n",
    "\n",
    "    vertical = np.copy(img)\n",
    "    rows = vertical.shape[0]\n",
    "    vertical_size = rows // length\n",
    "    vertical_structure = cv2.getStructuringElement(cv2.MORPH_RECT, (1, vertical_size))\n",
    "    vertical = cv2.erode(vertical, vertical_structure)\n",
    "    vertical = cv2.dilate(vertical, vertical_structure)\n",
    "\n",
    "    return vertical, horizontal"
   ]
  },
  {
   "cell_type": "code",
   "execution_count": null,
   "metadata": {},
   "outputs": [],
   "source": [
    "def create_grid_mask(vertical, horizontal):\n",
    "    grid = cv2.add(horizontal, vertical)\n",
    "    \n",
    "    plt.imshow(grid,cmap='gray')\n",
    "    plt.show()\n",
    "    \n",
    "    mask = cv2.bitwise_not(grid)\n",
    "    return mask"
   ]
  },
  {
   "cell_type": "raw",
   "metadata": {},
   "source": [
    "raw code by aatmin\n",
    "\n",
    "\n",
    "img=cv2.imread('paper.jpg')\n",
    "warp=get_sudoku(img)\n",
    "sudoku=cv2.GaussianBlur(warp, (9, 9), 1)\n",
    "plt.imshow(sudoku,cmap='gray')plt.show()\n",
    "vertical_lines, horizontal_lines = get_grid_lines(sudoku)\n",
    "    \"\"\"\n",
    "    plt.imshow(vertical_lines,cmap='gray')\n",
    "    plt.show()\n",
    "    plt.imshow(horizontal_lines,cmap='gray')\n",
    "    plt.show()\n",
    "    \"\"\"\n",
    "    mask = create_grid_mask(vertical_lines, horizontal_lines)\n",
    "    plt.imshow(mask,cmap='gray')\n",
    "    plt.show()\n",
    "    sudoku = cv2.bitwise_and(sudoku, mask)\n",
    "    plt.imshow(sudoku,cmap='gray')\n",
    "    plt.show()\n",
    "    \"\"\"\n",
    "    kernel = np.ones((10,10),np.uint8)\n",
    "    closing = cv2.morphologyEx(img, cv2.MORPH_CLOSE, kernel)\n",
    "    dilation = cv2.dilate(sudoku,kernel,iterations = 1)\n",
    "    plt.imshow(dilation,cmap='gray')\n",
    "    plt.show()\n",
    "    \"\"\"\n",
    "    sudoku = cv2.cvtColor(sudoku, cv2.COLOR_GRAY2BGR)\n",
    "    #n = sudoku.shape[1]//9\n",
    "    #crop_img = sudoku[(3*n):(3*n)+n,(1*n):(1*n)+n]\n",
    "    #cv2.imwrite(\"7_new.jpg\",crop_img)\n",
    "    \"\"\"\n",
    "    #ppi = pre_process_image(sudoku)\n",
    "    #sudoku = ~sudoku\n",
    "    #ppi = pre_process_image(sudoku)\n",
    "    plt.imshow(crop_img,cmap='gray')\n",
    "    plt.show()\n",
    "    #get_number(crop_img)\n",
    "    \"\"\""
   ]
  },
  {
   "cell_type": "code",
   "execution_count": null,
   "metadata": {},
   "outputs": [],
   "source": [
    "img=cv2.imread('paper.jpg')\n",
    "warp_img = get_sudoku(img)\n",
    "\n",
    "def process_sudoku(warp_img):\n",
    "    \n",
    "    plt.imshow(warp,cmap='gray')\n",
    "    plt.show()\n",
    "    sudoku=cv2.GaussianBlur(warp, (9, 9), 1)\n",
    "    vertical_lines, horizontal_lines = get_grid_lines(sudoku)\n",
    "    mask = create_grid_mask(vertical_lines, horizontal_lines)\n",
    "    sudoku = cv2.bitwise_and(sudoku, mask)\n",
    "    sudoku = cv2.cvtColor(sudoku, cv2.COLOR_GRAY2BGR)\n",
    "    plt.imshow(sudoku,cmap='gray')\n",
    "    plt.show()\n",
    "    return sudoku"
   ]
  },
  {
   "cell_type": "code",
   "execution_count": null,
   "metadata": {},
   "outputs": [],
   "source": [
    "def get_grids(sudoku):\n",
    "    images=[]\n",
    "    m = sudoku.shape[0]//9\n",
    "    n = sudoku.shape[1]//9\n",
    "    for i in range(0,9):\n",
    "        for j in range(0,9):\n",
    "            crop_img = sudoku[i*m:i*m+m,j*n:j*n+n]\n",
    "            #plt.imshow(crop_img,cmap = 'gray')\n",
    "            #plt.show()\n",
    "            images.append(crop_img)\n",
    "    return images"
   ]
  },
  {
   "cell_type": "code",
   "execution_count": null,
   "metadata": {},
   "outputs": [],
   "source": [
    "#grids = get_grids(sudoku)"
   ]
  },
  {
   "cell_type": "code",
   "execution_count": null,
   "metadata": {},
   "outputs": [],
   "source": [
    "#grids"
   ]
  },
  {
   "cell_type": "code",
   "execution_count": null,
   "metadata": {},
   "outputs": [],
   "source": [
    "def get_matrix(grid):\n",
    "    a=[]\n",
    "    k=0\n",
    "    for i in range(0,9):\n",
    "        b = []\n",
    "        for j in range(0,9):\n",
    "            #crop = cv2.cvtColor(grid[k], cv2.COLOR_GRAY2BGR)\n",
    "            num = get_number(grid[k])\n",
    "            k=k+1\n",
    "            b.append(num)\n",
    "        a.append(b)\n",
    "    return a   "
   ]
  },
  {
   "cell_type": "code",
   "execution_count": null,
   "metadata": {},
   "outputs": [],
   "source": []
  },
  {
   "cell_type": "code",
   "execution_count": null,
   "metadata": {},
   "outputs": [],
   "source": [
    "m = matrix(grids)"
   ]
  },
  {
   "cell_type": "code",
   "execution_count": null,
   "metadata": {},
   "outputs": [],
   "source": [
    "m"
   ]
  },
  {
   "cell_type": "code",
   "execution_count": null,
   "metadata": {},
   "outputs": [],
   "source": [
    "img=cv2.imread('paper.jpg')\n",
    "sudoku = process_sudoku(img)\n",
    "#warped = get_sudoku(img)\n",
    "grids = get_grids(sudoku)\n",
    "m = get_matrix(grids)\n",
    "m\n",
    "#grids = get_grids(sudoku)"
   ]
  },
  {
   "cell_type": "code",
   "execution_count": null,
   "metadata": {},
   "outputs": [],
   "source": []
  },
  {
   "cell_type": "code",
   "execution_count": null,
   "metadata": {},
   "outputs": [],
   "source": [
    "img=cv2.imread('paper.jpg')\n",
    "        \n",
    "warp=get_sudoku(img)\n",
    "sudoku=cv2.GaussianBlur(warp.copy(), (9, 9), 0)\n",
    "    \n",
    "    #cv2.imshow('Blur',sudoku)\n",
    "    \n",
    "m=sudoku.shape[0]\n",
    "n=sudoku.shape[1]\n",
    "crop_img = sudoku[0:0+n//9, 0:0+m//9]\n",
    "plt.imshow(crop_img,cmap='gray')\n",
    "    \n",
    "   "
   ]
  },
  {
   "cell_type": "code",
   "execution_count": null,
   "metadata": {},
   "outputs": [],
   "source": [
    "#cv2.imwrite('crop.jpg',crop_img)"
   ]
  },
  {
   "cell_type": "code",
   "execution_count": null,
   "metadata": {},
   "outputs": [],
   "source": [
    "crop_img = cv2.cvtColor(crop_img, cv2.COLOR_GRAY2BGR)"
   ]
  },
  {
   "cell_type": "code",
   "execution_count": null,
   "metadata": {},
   "outputs": [],
   "source": [
    "print(get_number(crop_img))"
   ]
  },
  {
   "cell_type": "code",
   "execution_count": null,
   "metadata": {},
   "outputs": [],
   "source": [
    "#warp = cv2.GaussianBlur(warp.copy(), (9, 9), 0)"
   ]
  },
  {
   "cell_type": "code",
   "execution_count": null,
   "metadata": {},
   "outputs": [],
   "source": [
    "#Capturing Webcam Feed\n",
    "cap = cv2.VideoCapture(0)\n",
    "\n",
    "while(cap.isOpened()):\n",
    "    \n",
    "    ret, img = cap.read()\n",
    "    \n",
    "    if not ret:\n",
    "        break\n",
    "        \n",
    "    warp=get_sudoku(img)\n",
    "    sudoku=cv2.GaussianBlur(warp.copy(), (9, 9), 0)\n",
    "    \n",
    "    #cv2.imshow('Blur',sudoku)\n",
    "    \n",
    "    m=sudoku.shape[0]\n",
    "    n=sudoku.shape[1]\n",
    "    \n",
    "    \n",
    "    temp=sudoku.resize(n//9,n//9);\n",
    "    cv2.imshow('temp',temp)\n",
    "            #model.predict()\n",
    "    \n",
    "    \n",
    "    k = cv2.waitKey(10)\n",
    "    if k == 27: #Esc Key\n",
    "        break\n",
    "        \n",
    "cap.release()\n",
    "cv2.destroyAllWindows()"
   ]
  },
  {
   "cell_type": "code",
   "execution_count": null,
   "metadata": {},
   "outputs": [],
   "source": []
  },
  {
   "cell_type": "code",
   "execution_count": null,
   "metadata": {},
   "outputs": [],
   "source": [
    "img=cv2.imread('paper.jpg')\n",
    "        \n",
    "warp=get_sudoku(img)\n",
    "sudoku=cv2.GaussianBlur(warp, (9, 9), 1)\n",
    "\n",
    "plt.imshow(sudoku,cmap='gray')\n",
    "plt.show()\n",
    "\n",
    "\"\"\"\n",
    "kernel = np.ones((10,10),np.uint8)\n",
    "# closing = cv2.morphologyEx(img, cv2.MORPH_CLOSE, kernel)\n",
    "dilation = cv2.dilate(sudoku,kernel,iterations = 1)\n",
    "\n",
    "plt.imshow(dilation,cmap='gray')\n",
    "plt.show()\n",
    "\"\"\"\n",
    "sudoku = cv2.cvtColor(sudoku, cv2.COLOR_GRAY2BGR)\n",
    "\n",
    "n = sudoku.shape[1]//9\n",
    "\n",
    "crop_img = sudoku[(3*n):(3*n)+n,(1*n):(1*n)+n]\n",
    "\n",
    "cv2.imwrite(\"6.jpg\",crop_img)\n",
    "\n",
    "#ppi = pre_process_image(sudoku)\n",
    "\n",
    "#sudoku = ~sudoku\n",
    "\n",
    "#ppi = pre_process_image(sudoku)\n",
    "\n",
    "plt.imshow(crop_img,cmap='gray')\n",
    "plt.show()\n",
    "\n",
    "#get_number(crop_img)\n"
   ]
  }
 ],
 "metadata": {
  "kernelspec": {
   "display_name": "Python 3",
   "language": "python",
   "name": "python3"
  },
  "language_info": {
   "codemirror_mode": {
    "name": "ipython",
    "version": 3
   },
   "file_extension": ".py",
   "mimetype": "text/x-python",
   "name": "python",
   "nbconvert_exporter": "python",
   "pygments_lexer": "ipython3",
   "version": "3.5.2"
  }
 },
 "nbformat": 4,
 "nbformat_minor": 2
}
