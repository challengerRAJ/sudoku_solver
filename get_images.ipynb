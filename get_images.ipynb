{
 "cells": [
  {
   "cell_type": "code",
   "execution_count": 1,
   "metadata": {},
   "outputs": [],
   "source": [
    "#img=cv2.imread('paper.jpg')\n",
    "#get_sudoku(img)# extract sudoku from image\n",
    "\n",
    "#get_matrix() #from extracted sudoku\n",
    "\n",
    "\n",
    "import numpy as np\n",
    "import cv2\n",
    "import matplotlib.pyplot as plt\n"
   ]
  },
  {
   "cell_type": "code",
   "execution_count": 2,
   "metadata": {},
   "outputs": [],
   "source": [
    "def get_grid_lines(img, length=12):\n",
    "    horizontal = np.copy(img)\n",
    "    cols = horizontal.shape[1]\n",
    "    horizontal_size = cols // length\n",
    "    horizontal_structure = cv2.getStructuringElement(cv2.MORPH_RECT, (horizontal_size, 1))\n",
    "    horizontal = cv2.erode(horizontal, horizontal_structure)\n",
    "    horizontal = cv2.dilate(horizontal, horizontal_structure)\n",
    "\n",
    "    vertical = np.copy(img)\n",
    "    rows = vertical.shape[0]\n",
    "    vertical_size = rows // length\n",
    "    vertical_structure = cv2.getStructuringElement(cv2.MORPH_RECT, (1, vertical_size))\n",
    "    vertical = cv2.erode(vertical, vertical_structure)\n",
    "    vertical = cv2.dilate(vertical, vertical_structure)\n",
    "\n",
    "    return vertical, horizontal"
   ]
  },
  {
   "cell_type": "code",
   "execution_count": 3,
   "metadata": {},
   "outputs": [],
   "source": [
    "def create_grid_mask(vertical, horizontal):\n",
    "    grid = cv2.add(horizontal, vertical)\n",
    "    \n",
    "    plt.imshow(grid,cmap='gray')\n",
    "    plt.show()\n",
    "    \n",
    "    mask = cv2.bitwise_not(grid)\n",
    "    return mask"
   ]
  },
  {
   "cell_type": "code",
   "execution_count": 10,
   "metadata": {},
   "outputs": [],
   "source": [
    "\n",
    "def process_sudoku(warp):\n",
    "    \n",
    "    plt.imshow(warp,cmap='gray')\n",
    "    plt.show()\n",
    "    sudoku=cv2.GaussianBlur(warp, (9, 9), 1)\n",
    "    vertical_lines, horizontal_lines = get_grid_lines(sudoku)\n",
    "    mask = create_grid_mask(vertical_lines, horizontal_lines)\n",
    "    sudoku = cv2.bitwise_and(sudoku, mask)\n",
    "    #sudoku = cv2.cvtColor(sudoku, cv2.COLOR_GRAY2BGR)\n",
    "    plt.imshow(sudoku,cmap='gray')\n",
    "    plt.show()\n",
    "    return sudoku"
   ]
  },
  {
   "cell_type": "code",
   "execution_count": 9,
   "metadata": {},
   "outputs": [],
   "source": [
    "def get_grids(warp):\n",
    "    sudoku = process_sudoku(warp)\n",
    "    images=[]\n",
    "    m = sudoku.shape[0]//9\n",
    "    n = sudoku.shape[1]//9\n",
    "    for i in range(0,9):\n",
    "        for j in range(0,9):\n",
    "            crop_img = sudoku[i*m:i*m+m,j*n:j*n+n]\n",
    "            #plt.imshow(crop_img,cmap = 'gray')\n",
    "            #plt.show()\n",
    "            images.append(crop_img)\n",
    "    return images"
   ]
  },
  {
   "cell_type": "code",
   "execution_count": null,
   "metadata": {},
   "outputs": [],
   "source": []
  }
 ],
 "metadata": {
  "kernelspec": {
   "display_name": "Python 3",
   "language": "python",
   "name": "python3"
  },
  "language_info": {
   "codemirror_mode": {
    "name": "ipython",
    "version": 3
   },
   "file_extension": ".py",
   "mimetype": "text/x-python",
   "name": "python",
   "nbconvert_exporter": "python",
   "pygments_lexer": "ipython3",
   "version": "3.5.2"
  }
 },
 "nbformat": 4,
 "nbformat_minor": 2
}
