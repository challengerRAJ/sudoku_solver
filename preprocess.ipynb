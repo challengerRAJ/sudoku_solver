{
 "cells": [
  {
   "cell_type": "code",
   "execution_count": 1,
   "metadata": {},
   "outputs": [],
   "source": [
    "#Importing Libraries\n",
    "import numpy as np\n",
    "import cv2\n",
    "import keras\n",
    "import matplotlib.pyplot as plt\n",
    "import time\n",
    "import operator"
   ]
  },
  {
   "cell_type": "code",
   "execution_count": 2,
   "metadata": {},
   "outputs": [],
   "source": [
    "def pre_process_image(img, skip_dilate=False):\n",
    "    \n",
    "    #Converting from RGB to Grayscale\n",
    "    gray = cv2.cvtColor(img, cv2.COLOR_BGR2GRAY)\n",
    "    \n",
    "    proc = cv2.GaussianBlur(gray.copy(), (9, 9), 0)\n",
    "    \n",
    "    proc = cv2.adaptiveThreshold(proc, 255, cv2.ADAPTIVE_THRESH_GAUSSIAN_C, cv2.THRESH_BINARY, 11, 2)\n",
    "    \n",
    "    proc = cv2.bitwise_not(proc)\n",
    "    \n",
    "    if not skip_dilate:\n",
    "        # Dilate the image to increase the size of the grid lines.\n",
    "        kernel = np.array([[0., 1., 0.], [1., 1., 1.], [0., 1., 0.]], np.uint8)\n",
    "        proc = cv2.dilate(proc, kernel)\n",
    "   \n",
    "    #cv2.imshow('Original Image !!',img)\n",
    "    #cv2.imshow('Gray !!',gray)\n",
    "    #cv2.imshow('Blur !!',proc)\n",
    "    \n",
    "    plt.imshow(proc, cmap='gray')\n",
    "    plt.title('pre_process_image')\n",
    "    plt.show()\n",
    "    return proc"
   ]
  },
  {
   "cell_type": "code",
   "execution_count": 3,
   "metadata": {},
   "outputs": [],
   "source": [
    "def find_corners_of_largest_polygon(img):\n",
    "    \"\"\"Finds the 4 extreme corners of the largest contour in the image.\"\"\"\n",
    "    contours, h = cv2.findContours(img.copy(), cv2.RETR_EXTERNAL, cv2.CHAIN_APPROX_SIMPLE)  # Find contours\n",
    "    contours = sorted(contours, key=cv2.contourArea, reverse=True)  # Sort by area, descending\n",
    "    polygon = contours[0]  # Largest image\n",
    "\n",
    "    # Use of `operator.itemgetter` with `max` and `min` allows us to get the index of the point\n",
    "    # Each point is an array of 1 coordinate, hence the [0] getter, then [0] or [1] used to get x and y respectively.\n",
    "\n",
    "    # Bottom-right point has the largest (x + y) value\n",
    "    # Top-left has point smallest (x + y) value\n",
    "    # Bottom-left point has smallest (x - y) value\n",
    "    # Top-right point has largest (x - y) value\n",
    "    bottom_right, _ = max(enumerate([pt[0][0] + pt[0][1] for pt in polygon]), key=operator.itemgetter(1))\n",
    "    top_left, _ = min(enumerate([pt[0][0] + pt[0][1] for pt in polygon]), key=operator.itemgetter(1))\n",
    "    bottom_left, _ = min(enumerate([pt[0][0] - pt[0][1] for pt in polygon]), key=operator.itemgetter(1))\n",
    "    top_right, _ = max(enumerate([pt[0][0] - pt[0][1] for pt in polygon]), key=operator.itemgetter(1))\n",
    "\n",
    "    # Return an array of all 4 points using the indices\n",
    "    # Each point is in its own array of one coordinate\n",
    "    return [polygon[top_left][0], polygon[top_right][0], polygon[bottom_right][0], polygon[bottom_left][0]]\n"
   ]
  },
  {
   "cell_type": "code",
   "execution_count": 4,
   "metadata": {},
   "outputs": [],
   "source": [
    "def distance_between(p1, p2):\n",
    "    \"\"\"Returns the scalar distance between two points\"\"\"\n",
    "    a = p2[0] - p1[0]\n",
    "    b = p2[1] - p1[1]\n",
    "    return np.sqrt((a ** 2) + (b ** 2))\n",
    "\n",
    "def crop_and_warp(img, crop_rect):\n",
    "    \"\"\"Crops and warps a rectangular section from an image into a square of similar size.\"\"\"\n",
    "\n",
    "    # Rectangle described by top left, top right, bottom right and bottom left points\n",
    "    top_left, top_right, bottom_right, bottom_left = crop_rect[0], crop_rect[1], crop_rect[2], crop_rect[3]\n",
    "\n",
    "    # Explicitly set the data type to float32 or `getPerspectiveTransform` will throw an error\n",
    "    src = np.array([top_left, top_right, bottom_right, bottom_left], dtype='float32')\n",
    "\n",
    "    # Get the longest side in the rectangle\n",
    "    side = max([\n",
    "        distance_between(bottom_right, top_right),\n",
    "        distance_between(top_left, bottom_left),\n",
    "        distance_between(bottom_right, bottom_left),\n",
    "        distance_between(top_left, top_right)\n",
    "        ])\n",
    "\n",
    "    # Describe a square with side of the calculated length, this is the new perspective we want to warp to\n",
    "    dst = np.array([[0, 0], [side - 1, 0], [side - 1, side - 1], [0, side - 1]], dtype='float32')\n",
    "\n",
    "    # Gets the transformation matrix for skewing the image to fit a square by comparing the 4 before and after points\n",
    "    m = cv2.getPerspectiveTransform(src, dst)\n",
    "\n",
    "    # Performs the transformation on the original image\n",
    "    warp = cv2.warpPerspective(img, m, (int(side), int(side)))\n",
    "    \n",
    "    #cv2.imshow('warp_image',warp)\n",
    "    \n",
    "    #plt.imshow(warp, cmap='gray')\n",
    "    #plt.title('warp_image')\n",
    "    #plt.show()\n",
    "    return warp"
   ]
  },
  {
   "cell_type": "code",
   "execution_count": 5,
   "metadata": {},
   "outputs": [],
   "source": [
    "def get_sudoku(img):\n",
    "    \n",
    "    proc=pre_process_image(img)\n",
    "    crop_rect=[]\n",
    "    crop_rect=find_corners_of_largest_polygon(proc)\n",
    "    warp=crop_and_warp(proc, crop_rect)\n",
    "    \n",
    "    return warp\n",
    "   "
   ]
  },
  {
   "cell_type": "code",
   "execution_count": null,
   "metadata": {},
   "outputs": [],
   "source": []
  }
 ],
 "metadata": {
  "kernelspec": {
   "display_name": "Python 3",
   "language": "python",
   "name": "python3"
  },
  "language_info": {
   "codemirror_mode": {
    "name": "ipython",
    "version": 3
   },
   "file_extension": ".py",
   "mimetype": "text/x-python",
   "name": "python",
   "nbconvert_exporter": "python",
   "pygments_lexer": "ipython3",
   "version": "3.5.2"
  }
 },
 "nbformat": 4,
 "nbformat_minor": 2
}
